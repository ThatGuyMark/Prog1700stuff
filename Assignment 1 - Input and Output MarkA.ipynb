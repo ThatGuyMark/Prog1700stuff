{
 "cells": [
  {
   "cell_type": "markdown",
   "metadata": {
    "colab_type": "text",
    "id": "-ycSUdCI6y9U"
   },
   "source": [
    "# Assignment 1\n",
    "\n",
    "## Total: 35pts"
   ]
  },
  {
   "cell_type": "markdown",
   "metadata": {
    "colab_type": "text",
    "id": "Wu4GRcHW6y9Z"
   },
   "source": [
    "### Part A - Write Code! (5pts)\n",
    "\n",
    "For each item below, determine the appropriate PowerShell code to generate the desired output.\n",
    "\n",
    "---"
   ]
  },
  {
   "cell_type": "markdown",
   "metadata": {
    "colab_type": "text",
    "id": "nTt4W7Ld6y9b"
   },
   "source": [
    "1) Display your name and student ID to the console."
   ]
  },
  {
   "cell_type": "code",
   "execution_count": null,
   "metadata": {
    "colab": {},
    "colab_type": "code",
    "hide_input": false,
    "id": "WzPxfS7A6y9e",
    "vscode": {
     "languageId": "powershell"
    }
   },
   "outputs": [],
   "source": [
    "write-host \"Mark Alstrup W0485376\""
   ]
  },
  {
   "cell_type": "markdown",
   "metadata": {
    "colab_type": "text",
    "id": "Es-ulO716y9m"
   },
   "source": [
    "Jane Doe W0123456"
   ]
  },
  {
   "cell_type": "markdown",
   "metadata": {},
   "source": []
  },
  {
   "cell_type": "markdown",
   "metadata": {
    "colab_type": "text",
    "id": "5fUTfuYX6y9p"
   },
   "source": [
    "---"
   ]
  },
  {
   "cell_type": "markdown",
   "metadata": {
    "colab_type": "text",
    "id": "f2XqD7Ya6y9q"
   },
   "source": [
    "2) Create a variable, called __num__, to hold the integer value, __10__. Then, display the contents of the variable."
   ]
  },
  {
   "cell_type": "code",
   "execution_count": null,
   "metadata": {
    "colab": {},
    "colab_type": "code",
    "id": "oBwsAgVF6y9s",
    "vscode": {
     "languageId": "powershell"
    }
   },
   "outputs": [],
   "source": [
    "$num = 10\n",
    "write-output $num"
   ]
  },
  {
   "cell_type": "markdown",
   "metadata": {
    "colab_type": "text",
    "id": "l_Q8MbM86y9z"
   },
   "source": [
    "10"
   ]
  },
  {
   "cell_type": "markdown",
   "metadata": {
    "colab_type": "text",
    "id": "abgJYaMv6y91"
   },
   "source": [
    "---"
   ]
  },
  {
   "cell_type": "markdown",
   "metadata": {
    "colab_type": "text",
    "id": "QgmpkjOE6y93"
   },
   "source": [
    "3) Create a variable to hold the name of your favourite TV character. Then, use string formatting to display the message \"My favourite TV star is: \" with the variable contents appended. (e.g. \"My favourite TV star is: Homer Simpson\")"
   ]
  },
  {
   "cell_type": "code",
   "execution_count": null,
   "metadata": {
    "colab": {},
    "colab_type": "code",
    "id": "36FjBTTw6y95",
    "vscode": {
     "languageId": "powershell"
    }
   },
   "outputs": [],
   "source": [
    "$fav_tv = \"Finn from Adventure Time\"\n",
    "Write-Host \"My favourite TV star is: $fav_tv\""
   ]
  },
  {
   "cell_type": "markdown",
   "metadata": {
    "colab_type": "text",
    "id": "yblg8E4p6y9_"
   },
   "source": [
    "My favourite TV star is: Homer Simpson"
   ]
  },
  {
   "cell_type": "markdown",
   "metadata": {
    "colab_type": "text",
    "id": "Z1ZTYMrg6y-A"
   },
   "source": [
    "---"
   ]
  },
  {
   "cell_type": "markdown",
   "metadata": {
    "colab_type": "text",
    "id": "5wf6aWFu6y-C"
   },
   "source": [
    "4) Display Santa Clause's catch phrase (Ho Ho Ho) using the string replication operator."
   ]
  },
  {
   "cell_type": "code",
   "execution_count": null,
   "metadata": {
    "colab": {},
    "colab_type": "code",
    "id": "Zb2fu3Vi6y-D",
    "vscode": {
     "languageId": "powershell"
    }
   },
   "outputs": [],
   "source": [
    "$repeat_count = 3\n",
    "$string_to_repeat = \"Ho \"\n",
    "$catch_phrase = $string_to_repeat * $repeat_count\n",
    "Write-Host $catch_phrase"
   ]
  },
  {
   "cell_type": "markdown",
   "metadata": {
    "colab_type": "text",
    "id": "_1Rqco0g6y-I"
   },
   "source": [
    "Ho Ho Ho "
   ]
  },
  {
   "cell_type": "markdown",
   "metadata": {
    "colab_type": "text",
    "id": "Hzr0pZwz6y-K"
   },
   "source": [
    "---"
   ]
  },
  {
   "cell_type": "markdown",
   "metadata": {
    "colab_type": "text",
    "id": "A835cS6V6y-M"
   },
   "source": [
    "5) Create the PowerShell statement to calculate the following mathematical expression: $2 + 3 \\times 4 - 6 \\div 3 $"
   ]
  },
  {
   "cell_type": "code",
   "execution_count": null,
   "metadata": {
    "colab": {},
    "colab_type": "code",
    "id": "0WBkOlyU6y-N",
    "vscode": {
     "languageId": "powershell"
    }
   },
   "outputs": [],
   "source": [
    "$result = 2 + 3 * 4 - 6 / 3\n",
    "Write-Host $result"
   ]
  },
  {
   "cell_type": "markdown",
   "metadata": {
    "colab_type": "text",
    "id": "b0lboah16y-S"
   },
   "source": [
    "12"
   ]
  },
  {
   "cell_type": "markdown",
   "metadata": {
    "colab_type": "text",
    "id": "E-mgGgbG6y-U"
   },
   "source": [
    "---"
   ]
  },
  {
   "cell_type": "markdown",
   "metadata": {
    "colab_type": "text",
    "id": "clFbvpgn6y-V"
   },
   "source": [
    "### Part B - Fix the Error! (15pts)\n",
    "\n",
    "Listed below are several snippets of code that contain small errors. For each of the questions, __correct the error__ so the code will generate the desired output.\n",
    "\n",
    "---"
   ]
  },
  {
   "cell_type": "markdown",
   "metadata": {
    "colab_type": "text",
    "id": "MvbrIaDp6y-X"
   },
   "source": [
    "6) Display a string of text on the screen."
   ]
  },
  {
   "cell_type": "code",
   "execution_count": null,
   "metadata": {
    "colab": {},
    "colab_type": "code",
    "id": "tV81pJmY6y-Z",
    "vscode": {
     "languageId": "powershell"
    }
   },
   "outputs": [],
   "source": [
    "Write-host \"This is a story about a man named Jed.\""
   ]
  },
  {
   "cell_type": "markdown",
   "metadata": {
    "colab_type": "text",
    "hide_input": false,
    "id": "bxFcQ3OL6y-e"
   },
   "source": [
    "This is a story about a man named Jed."
   ]
  },
  {
   "cell_type": "markdown",
   "metadata": {
    "colab_type": "text",
    "id": "C25pX2RK6y-g"
   },
   "source": [
    "---"
   ]
  },
  {
   "cell_type": "markdown",
   "metadata": {
    "colab_type": "text",
    "id": "ktSlWc6N6y-h"
   },
   "source": [
    "7) Concatenate a string and a decimal number."
   ]
  },
  {
   "cell_type": "code",
   "execution_count": null,
   "metadata": {
    "colab": {},
    "colab_type": "code",
    "id": "hLpjaTaf6y-i",
    "vscode": {
     "languageId": "powershell"
    }
   },
   "outputs": [],
   "source": [
    "$out = \"PI = 3.14159 \" \n",
    "Write-Host $out"
   ]
  },
  {
   "cell_type": "markdown",
   "metadata": {
    "colab_type": "text",
    "hide_input": false,
    "id": "xO_FFzZY6y-m"
   },
   "source": [
    "PI = 3.14159"
   ]
  },
  {
   "cell_type": "markdown",
   "metadata": {
    "colab_type": "text",
    "id": "9QoBU_y66y-n"
   },
   "source": [
    "---"
   ]
  },
  {
   "cell_type": "markdown",
   "metadata": {
    "colab_type": "text",
    "id": "JqoR_7nD6y-p"
   },
   "source": [
    "8) Print a calculation."
   ]
  },
  {
   "cell_type": "code",
   "execution_count": null,
   "metadata": {
    "colab": {},
    "colab_type": "code",
    "id": "XgzRrjS76y-q",
    "vscode": {
     "languageId": "powershell"
    }
   },
   "outputs": [],
   "source": [
    "$ans = 1 + 2\n",
    "write-host $ans\n"
   ]
  },
  {
   "cell_type": "markdown",
   "metadata": {
    "colab_type": "text",
    "hide_input": false,
    "id": "T80xIQNw6y-v"
   },
   "source": [
    "3"
   ]
  },
  {
   "cell_type": "markdown",
   "metadata": {
    "colab_type": "text",
    "id": "DFA2VS036y-y"
   },
   "source": [
    "---"
   ]
  },
  {
   "cell_type": "markdown",
   "metadata": {
    "colab_type": "text",
    "id": "4E936jWH6y-z"
   },
   "source": [
    "9) Print a string and a calculation."
   ]
  },
  {
   "cell_type": "code",
   "execution_count": null,
   "metadata": {
    "colab": {},
    "colab_type": "code",
    "id": "IfmIJzCw6y-0",
    "vscode": {
     "languageId": "powershell"
    }
   },
   "outputs": [],
   "source": [
    "\n",
    "Write-Host \"3 cubed =\" (pow(3,3))"
   ]
  },
  {
   "cell_type": "markdown",
   "metadata": {
    "colab_type": "text",
    "hide_input": false,
    "id": "QWoZX78Y6y-2"
   },
   "source": [
    "3 cubed = 27"
   ]
  },
  {
   "cell_type": "markdown",
   "metadata": {
    "colab_type": "text",
    "id": "2cshrCMI6y-4"
   },
   "source": [
    "---"
   ]
  },
  {
   "cell_type": "markdown",
   "metadata": {
    "colab_type": "text",
    "id": "qDoiSp5n6y-6"
   },
   "source": [
    "10) Display a name in the format <em>&lt;last name&gt;, &lt;first name&gt;</em>"
   ]
  },
  {
   "cell_type": "code",
   "execution_count": null,
   "metadata": {
    "colab": {},
    "colab_type": "code",
    "id": "MzATP0zW6y-7",
    "vscode": {
     "languageId": "powershell"
    }
   },
   "outputs": [],
   "source": [
    "\n",
    "$firstName = \"Smith\"\n",
    "$lastName = \"John\"\n",
    "\n",
    "$fullName = \"{0}, {1}\" -f $lastName, $firstName\n",
    "Write-Host $fullName"
   ]
  },
  {
   "cell_type": "markdown",
   "metadata": {
    "colab_type": "text",
    "hide_input": false,
    "id": "p7efUk0_6y_A"
   },
   "source": [
    "Smith, John"
   ]
  },
  {
   "cell_type": "markdown",
   "metadata": {
    "colab_type": "text",
    "id": "WBPb2GYB6y_A"
   },
   "source": [
    "---"
   ]
  },
  {
   "cell_type": "markdown",
   "metadata": {
    "colab_type": "text",
    "id": "-fePfJ-l6y_D"
   },
   "source": [
    "11) Display the answer of an integer division and the remainder. There should not be any decimal points displayed."
   ]
  },
  {
   "cell_type": "code",
   "execution_count": 65,
   "metadata": {
    "colab": {},
    "colab_type": "code",
    "id": "pU0SZtVT6y_D",
    "vscode": {
     "languageId": "powershell"
    }
   },
   "outputs": [
    {
     "name": "stdout",
     "output_type": "stream",
     "text": [
      "13 / 5 = 2.6 remainder 2.6\n"
     ]
    }
   ],
   "source": [
    "Write-Host \"13 / 5 =\" (13/5) \"remainder\" (13/5+0.4)"
   ]
  },
  {
   "cell_type": "markdown",
   "metadata": {
    "colab_type": "text",
    "hide_input": false,
    "id": "ZHMyYGDr6y_H"
   },
   "source": [
    "13 / 5 = 2 remainder 3"
   ]
  },
  {
   "cell_type": "markdown",
   "metadata": {
    "colab_type": "text",
    "id": "Jj5xRTax6y_I"
   },
   "source": [
    "---"
   ]
  },
  {
   "cell_type": "markdown",
   "metadata": {
    "colab_type": "text",
    "id": "mdXkqJSQ6y_K"
   },
   "source": [
    "12) Use two Write-Host statements to display on the same line."
   ]
  },
  {
   "cell_type": "code",
   "execution_count": 67,
   "metadata": {
    "colab": {},
    "colab_type": "code",
    "id": "2lG5lMjV6y_L",
    "vscode": {
     "languageId": "powershell"
    }
   },
   "outputs": [
    {
     "name": "stdout",
     "output_type": "stream",
     "text": [
      "This is on \n",
      "the same line.\n"
     ]
    }
   ],
   "source": [
    "Write-Host \"This is on \" -NoNewLine\n",
    "Write-Host \"the same line.\"\n"
   ]
  },
  {
   "cell_type": "markdown",
   "metadata": {},
   "source": []
  },
  {
   "cell_type": "markdown",
   "metadata": {
    "colab_type": "text",
    "hide_input": false,
    "id": "Li8GQBhP6y_P"
   },
   "source": [
    "This is on the same line."
   ]
  },
  {
   "cell_type": "markdown",
   "metadata": {
    "colab_type": "text",
    "id": "fPefqaRC6y_Q"
   },
   "source": [
    "---"
   ]
  },
  {
   "cell_type": "markdown",
   "metadata": {
    "colab_type": "text",
    "id": "zDfgedeQ6y_R"
   },
   "source": [
    "13) Concatentate the string with the addition."
   ]
  },
  {
   "cell_type": "code",
   "execution_count": 71,
   "metadata": {
    "colab": {},
    "colab_type": "code",
    "id": "QxYwQGT_6y_S",
    "vscode": {
     "languageId": "powershell"
    }
   },
   "outputs": [
    {
     "name": "stdout",
     "output_type": "stream",
     "text": [
      "1 + 2 = 1 + 2\n"
     ]
    }
   ],
   "source": [
    "Write-Host \"1 + 2 =\" $ans\n",
    "$ans = 1+2"
   ]
  },
  {
   "cell_type": "markdown",
   "metadata": {
    "colab_type": "text",
    "hide_input": false,
    "id": "oHjfY8WX6y_U"
   },
   "source": [
    "1 + 2 = 3"
   ]
  },
  {
   "cell_type": "markdown",
   "metadata": {
    "colab_type": "text",
    "id": "j-9PA9_k6y_V"
   },
   "source": [
    "---"
   ]
  },
  {
   "cell_type": "markdown",
   "metadata": {
    "colab_type": "text",
    "id": "X5D1SkqU6y_W"
   },
   "source": [
    "14) Concatentate the string with the integer."
   ]
  },
  {
   "cell_type": "code",
   "execution_count": null,
   "metadata": {
    "colab": {},
    "colab_type": "code",
    "id": "G5712cAE6y_X",
    "vscode": {
     "languageId": "powershell"
    }
   },
   "outputs": [],
   "source": [
    "$string =  99\n",
    "Write-Host \"Number = \"$string"
   ]
  },
  {
   "cell_type": "markdown",
   "metadata": {
    "colab_type": "text",
    "hide_input": false,
    "id": "96UK1g5z6y_b"
   },
   "source": [
    "Number = 99"
   ]
  },
  {
   "cell_type": "markdown",
   "metadata": {
    "colab_type": "text",
    "id": "xt8Nvun06y_c"
   },
   "source": [
    "---"
   ]
  },
  {
   "cell_type": "markdown",
   "metadata": {
    "colab_type": "text",
    "id": "E6vzuJbj6y_d"
   },
   "source": [
    "15) Use a single Write-Host statement to print on multiple lines."
   ]
  },
  {
   "cell_type": "code",
   "execution_count": null,
   "metadata": {
    "colab": {},
    "colab_type": "code",
    "id": "ikSIAVWP6y_f",
    "vscode": {
     "languageId": "powershell"
    }
   },
   "outputs": [],
   "source": [
    "Write-Host \"This is\"; \"on multiple\";\" lines.\""
   ]
  },
  {
   "cell_type": "markdown",
   "metadata": {
    "colab_type": "text",
    "hide_input": false,
    "id": "A8abaWIK6y_i"
   },
   "source": [
    "This is<br>\n",
    "on multiple<br>\n",
    "lines."
   ]
  },
  {
   "cell_type": "markdown",
   "metadata": {
    "colab_type": "text",
    "id": "tqq23ggf6y_j"
   },
   "source": [
    "---"
   ]
  },
  {
   "cell_type": "markdown",
   "metadata": {
    "colab_type": "text",
    "id": "A5dYC_Im6y_k"
   },
   "source": [
    "16) Comment out the first line."
   ]
  },
  {
   "cell_type": "code",
   "execution_count": null,
   "metadata": {
    "colab": {},
    "colab_type": "code",
    "id": "F2c7Ps2K6y_l",
    "vscode": {
     "languageId": "powershell"
    }
   },
   "outputs": [],
   "source": [
    "#This is just a comment.\n",
    "Write-Host \"You should only see this line.\""
   ]
  },
  {
   "cell_type": "markdown",
   "metadata": {
    "colab_type": "text",
    "hide_input": false,
    "id": "UBjft-_Q6y_o"
   },
   "source": [
    "You should only see this line."
   ]
  },
  {
   "cell_type": "markdown",
   "metadata": {
    "colab_type": "text",
    "id": "dIlFC3t36y_p"
   },
   "source": [
    "---"
   ]
  },
  {
   "cell_type": "markdown",
   "metadata": {
    "colab_type": "text",
    "id": "T-rGL5rf6y_p"
   },
   "source": [
    "17) Make some ASCII art!"
   ]
  },
  {
   "cell_type": "code",
   "execution_count": null,
   "metadata": {
    "vscode": {
     "languageId": "powershell"
    }
   },
   "outputs": [],
   "source": []
  },
  {
   "cell_type": "code",
   "execution_count": null,
   "metadata": {
    "colab": {},
    "colab_type": "code",
    "id": "UNfkaCmd6y_q",
    "vscode": {
     "languageId": "powershell"
    }
   },
   "outputs": [],
   "source": [
    "Write-Host \".     .\";\" \\ O / \";\"  - - \";  \"   |\"; \"   ^\"; \"  / \\\"; \" -   -\""
   ]
  },
  {
   "cell_type": "markdown",
   "metadata": {
    "colab_type": "text",
    "hide_input": false,
    "id": "13-5dgUB6y_t"
   },
   "source": [
    "<pre>\n",
    ".     .\n",
    " \\ O /\n",
    "  - -\n",
    "   |\n",
    "   ^\n",
    "  / \\\n",
    " -   -\n",
    " </pre>"
   ]
  },
  {
   "cell_type": "markdown",
   "metadata": {
    "colab_type": "text",
    "id": "HtT9IyLW6y_t"
   },
   "source": [
    "---"
   ]
  },
  {
   "cell_type": "markdown",
   "metadata": {
    "colab_type": "text",
    "id": "y8t5sNEJ6y_v"
   },
   "source": [
    "18) A couple of problems here...."
   ]
  },
  {
   "cell_type": "code",
   "execution_count": null,
   "metadata": {
    "colab": {},
    "colab_type": "code",
    "id": "18i2xD8I6y_w",
    "vscode": {
     "languageId": "powershell"
    }
   },
   "outputs": [],
   "source": [
    "Write-Host \"Something's not right here.\""
   ]
  },
  {
   "cell_type": "markdown",
   "metadata": {
    "colab_type": "text",
    "hide_input": false,
    "id": "e4rOW-WF6y_z"
   },
   "source": [
    "Something's not right here."
   ]
  },
  {
   "cell_type": "markdown",
   "metadata": {
    "colab_type": "text",
    "id": "F_VZsY4J6y_0"
   },
   "source": [
    "---"
   ]
  },
  {
   "cell_type": "markdown",
   "metadata": {
    "colab_type": "text",
    "id": "4vX2ih9y6y_0"
   },
   "source": [
    "19) Add the contents of variables to a string using string formatting."
   ]
  },
  {
   "cell_type": "code",
   "execution_count": null,
   "metadata": {
    "colab": {},
    "colab_type": "code",
    "id": "vE2lw-j66y_1",
    "vscode": {
     "languageId": "powershell"
    }
   },
   "outputs": [],
   "source": [
    "$name = 'John Smith'\n",
    "$age = 50\n",
    "Write-Host '{0} is {1} years old.' -f $name,$age"
   ]
  },
  {
   "cell_type": "markdown",
   "metadata": {
    "colab_type": "text",
    "id": "6IVRe1Qh6y_5"
   },
   "source": [
    "John Smith is 50 years old."
   ]
  },
  {
   "cell_type": "markdown",
   "metadata": {
    "colab_type": "text",
    "id": "A68QJSUp6y_5"
   },
   "source": [
    "---"
   ]
  },
  {
   "cell_type": "markdown",
   "metadata": {
    "colab_type": "text",
    "id": "xZuKb1vx6y_6"
   },
   "source": [
    "20) Add the contents of variables to a string using variable expansion."
   ]
  },
  {
   "cell_type": "code",
   "execution_count": null,
   "metadata": {
    "colab": {},
    "colab_type": "code",
    "id": "hj4qG8JN6y_7",
    "vscode": {
     "languageId": "powershell"
    }
   },
   "outputs": [],
   "source": [
    "\n",
    "$name = 'John Smith'\n",
    "$age = 50\n",
    "\n",
    "$result = '{0} is {1} years old.' -f $name, $age\n",
    "\n",
    "Write-Host $result"
   ]
  },
  {
   "cell_type": "markdown",
   "metadata": {
    "colab_type": "text",
    "id": "_Yy8M9Tt6y_-"
   },
   "source": [
    "John Smith is 50 years old."
   ]
  },
  {
   "cell_type": "markdown",
   "metadata": {},
   "source": [
    "---\n",
    "\n",
    "### Part C - Math (15pts)\n",
    "\n",
    "Create a Python program that calculates the roots of a quadratic equation using the equation, $x = \\large {-b \\pm \\sqrt{b^2 - 4ac} \\over 2a}$.\n",
    "\n",
    "You can assume that the equations used will always have two defined roots. (i.e. ${a \\ne 0}$)\n",
    "\n",
    "The program should allow the user to input the three variables of the formula, a, b, and c, and then output the resulting roots.\n",
    "\n",
    "Example:\n",
    "\n",
    "<div style=\"width:800px\"><img src=\"img/quadratic.gif\" /></div>"
   ]
  },
  {
   "cell_type": "code",
   "execution_count": null,
   "metadata": {
    "vscode": {
     "languageId": "powershell"
    }
   },
   "outputs": [],
   "source": []
  }
 ],
 "metadata": {
  "colab": {
   "collapsed_sections": [],
   "name": "Assignment 1 - Input and Output.ipynb",
   "provenance": [],
   "toc_visible": true,
   "version": "0.3.2"
  },
  "hide_input": false,
  "kernelspec": {
   "display_name": ".NET (PowerShell)",
   "language": "PowerShell",
   "name": ".net-powershell"
  },
  "language_info": {
   "file_extension": ".ps1",
   "mimetype": "text/x-powershell",
   "name": "PowerShell",
   "pygments_lexer": "powershell",
   "version": "7.0"
  }
 },
 "nbformat": 4,
 "nbformat_minor": 4
}
