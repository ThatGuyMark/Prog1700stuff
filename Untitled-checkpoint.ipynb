{
 "cells": [
  {
   "cell_type": "code",
   "execution_count": null,
   "id": "2b42ef52-2fc8-48ff-bccd-3c4e52ee59f8",
   "metadata": {},
   "outputs": [],
   "source": []
  }
 ],
 "metadata": {
  "kernelspec": {
   "display_name": "",
   "name": ""
  },
  "language_info": {
   "name": ""
  }
 },
 "nbformat": 4,
 "nbformat_minor": 5
}
